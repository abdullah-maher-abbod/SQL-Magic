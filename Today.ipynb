{
 "cells": [
  {
   "cell_type": "markdown",
   "id": "bc90c0aa",
   "metadata": {},
   "source": [
    "# Learning Objectives"
   ]
  },
  {
   "cell_type": "markdown",
   "id": "43336e76",
   "metadata": {},
   "source": [
    "###### Demonstrate how to connect to a database from a Jupyter notebook\n",
    "###### Demonstrate how to create tables and insert data from Python\n",
    "###### Demonstrate how to perform simplified database access from Python using SQL magic\n",
    "###### Demonstrate writing SQL queries and retrieve result sets from Python\n",
    "###### Describe concepts related to accessing Databases using Python"
   ]
  },
  {
   "cell_type": "markdown",
   "id": "827c37a3",
   "metadata": {},
   "source": [
    "## MECHANISM"
   ]
  },
  {
   "cell_type": "markdown",
   "id": "d01e2390",
   "metadata": {},
   "source": [
    "![](DBMS.JPG)"
   ]
  },
  {
   "cell_type": "markdown",
   "id": "e0f30b66",
   "metadata": {},
   "source": [
    "![](cursor.png)"
   ]
  },
  {
   "cell_type": "code",
   "execution_count": null,
   "id": "b6cafd07",
   "metadata": {},
   "outputs": [],
   "source": [
    "import sqlite3\n",
    "# Create a SQL connection to our SQLite database\n",
    "con = sqlite3.connect(\"portal_mammals.sqlite\")\n",
    "cur = con.cursor()\n",
    "# The result of a \"cursor.execute\" can be iterated over by row\n",
    "for row in cur.execute('SELECT * FROM surveys;'):\n",
    "    print(row)\n",
    "# Be sure to close the connection\n",
    "con.close()"
   ]
  },
  {
   "cell_type": "code",
   "execution_count": null,
   "id": "72bb6d60",
   "metadata": {},
   "outputs": [],
   "source": [
    "import sqlite3\n",
    "# Create a SQL connection to our SQLite database\n",
    "con = sqlite3.connect(\"C:\\\\Users\\\\User\\\\Desktop\\\\dev\\\\kadb.db\")\n",
    "cur = con.cursor()\n",
    "# The result of a \"cursor.execute\" can be iterated over by row\n",
    "for row in cur.execute('SELECT * FROM movies;'):\n",
    "    print(row)\n",
    "# Be sure to close the connection\n",
    "con.close()"
   ]
  },
  {
   "cell_type": "code",
   "execution_count": null,
   "id": "071d1533",
   "metadata": {},
   "outputs": [],
   "source": [
    "con = sqlite3.connect(\"C:\\\\Users\\\\User\\\\Desktop\\\\dev\\\\kadb.db\")\n",
    "cur = con.cursor()\n",
    "for row in cur.execute('SELECT * FROM sqlite_sequence;'):\n",
    "    print(row)\n",
    "con.close()"
   ]
  },
  {
   "cell_type": "code",
   "execution_count": null,
   "id": "162333c7",
   "metadata": {},
   "outputs": [],
   "source": [
    "# Create a SQL connection to our SQLite database\n",
    "import pandas as pd\n",
    "con = sqlite3.connect(\"C:\\\\Users\\\\User\\\\Desktop\\\\dev\\\\kadb.db\")\n",
    "cur = con.cursor()\n",
    "cur.execute('''\n",
    "          INSERT INTO sqlite_sequence (name, seq)\n",
    "          VALUES\n",
    "                (\"playlist1\",20)               \n",
    "          ''')\n",
    "for row in cur.execute('SELECT * FROM sqlite_sequence;'):\n",
    "    print(row)\n",
    "# The result of a \"cursor.execute\" can be iterated over by row\n",
    "cur.execute('SELECT * FROM sqlite_sequence;')\n",
    "df = pd.DataFrame(cur.fetchall())\n",
    "df\n",
    "# Be sure to close the connection\n",
    "#con.close()"
   ]
  },
  {
   "cell_type": "code",
   "execution_count": null,
   "id": "df9fc9b4",
   "metadata": {},
   "outputs": [],
   "source": [
    "con.close()"
   ]
  },
  {
   "cell_type": "code",
   "execution_count": null,
   "id": "10d8f543",
   "metadata": {},
   "outputs": [],
   "source": [
    "conn = sqlite3.connect('test_database1') \n",
    "c = conn.cursor()\n",
    "c.execute('''\n",
    "          CREATE TABLE IF NOT EXISTS items\n",
    "          ([item_id] INTEGER PRIMARY KEY, [item_name] TEXT)\n",
    "          ''')\n",
    "          \n",
    "c.execute('''\n",
    "          CREATE TABLE IF NOT EXISTS prices\n",
    "          ([item_id] INTEGER PRIMARY KEY, [price] INTEGER)\n",
    "          ''')\n",
    "                     \n",
    "conn.commit()\n",
    "\n",
    "df = pd.DataFrame(c.fetchall(), columns = ['item_name','price'])\n",
    "print (df)"
   ]
  },
  {
   "cell_type": "code",
   "execution_count": null,
   "id": "37d825f1",
   "metadata": {},
   "outputs": [],
   "source": [
    "conn = sqlite3.connect('test_database1') \n",
    "c = conn.cursor()\n",
    "                   \n",
    "c.execute('''\n",
    "          INSERT INTO items (item_id, item_name)\n",
    "                VALUES\n",
    "                (1,'Microwave'),\n",
    "                (2,'Oven'),\n",
    "                (3,'Refrigerator'),\n",
    "                (4,'Toaster'),\n",
    "                (5,'Blender')\n",
    "          ''')\n",
    "\n",
    "c.execute('''\n",
    "          INSERT INTO prices (item_id, price)\n",
    "                VALUES\n",
    "                (1,250),\n",
    "                (2,700),\n",
    "                (3,1200),\n",
    "                (4,80),\n",
    "                (5,300)\n",
    "          ''')\n",
    "conn.commit()\n",
    "\n",
    "df = pd.DataFrame(c.fetchall(), columns = ['item_name','price'])\n",
    "print (df)"
   ]
  },
  {
   "cell_type": "code",
   "execution_count": null,
   "id": "f90dc188",
   "metadata": {},
   "outputs": [],
   "source": [
    "conn = sqlite3.connect('test_database1') \n",
    "c = conn.cursor()\n",
    "                   \n",
    "c.execute('''\n",
    "          SELECT\n",
    "          a.item_name,\n",
    "          b.price\n",
    "          FROM items a\n",
    "          LEFT JOIN prices b ON a.item_id = b.item_id\n",
    "          ''')\n",
    "\n",
    "df = pd.DataFrame(c.fetchall(), columns = ['item_name','price'])\n",
    "df"
   ]
  },
  {
   "cell_type": "markdown",
   "id": "bdd2b94c",
   "metadata": {},
   "source": [
    "![](magic.jpeg)"
   ]
  },
  {
   "cell_type": "markdown",
   "id": "0da16158",
   "metadata": {},
   "source": [
    "# SQL MAGIC"
   ]
  },
  {
   "cell_type": "markdown",
   "id": "ccde3b7f",
   "metadata": {},
   "source": [
    "###### Magic functions are pre-defined functions(“magics”) in Jupyter kernel that executes supplied commands.\n",
    "###### There are two kinds of magics line-oriented and cell-oriented prefaced with % and %% respectively."
   ]
  },
  {
   "cell_type": "markdown",
   "id": "174e21bb",
   "metadata": {},
   "source": [
    "###### The ipython-sql library is loaded using the %load_ext iPython extension syntax "
   ]
  },
  {
   "cell_type": "code",
   "execution_count": null,
   "id": "ea1412dc",
   "metadata": {},
   "outputs": [],
   "source": [
    "%load_ext sql\n",
    "%sql sqlite:///chinook.db"
   ]
  },
  {
   "cell_type": "code",
   "execution_count": null,
   "id": "9833240e",
   "metadata": {},
   "outputs": [],
   "source": [
    "%sql SELECT name FROM sqlite_master WHERE type='table'"
   ]
  },
  {
   "cell_type": "code",
   "execution_count": null,
   "id": "7ebad7ff",
   "metadata": {},
   "outputs": [],
   "source": [
    "%sql SELECT name FROM sqlite_master WHERE type='table'"
   ]
  },
  {
   "cell_type": "code",
   "execution_count": null,
   "id": "f1795121",
   "metadata": {},
   "outputs": [],
   "source": [
    "%sql SELECT * FROM movies"
   ]
  },
  {
   "cell_type": "code",
   "execution_count": null,
   "id": "c3ae26c0",
   "metadata": {},
   "outputs": [],
   "source": [
    "%%sql\n",
    "\n",
    "CREATE TABLE Fam1(Name TEXT, Age INTEGER, Profession TEXT, Major TEXT);\n",
    "INSERT INTO Fam1 (Name, Age) VALUES('Pam', 50);\n",
    "INSERT INTO Fam1 (Name, Age) VALUES('Miranda', 32);\n",
    "INSERT INTO Fam1 (Name, Age) VALUES('Pascal', 45);\n",
    "INSERT INTO Fam1 (Name, Age) VALUES('Dave', 12);\n",
    "INSERT INTO Fam1 (Name, Age) VALUES('Emmy', 23);\n",
    "\n",
    "UPDATE Fam1 SET Profession='Unknown' WHERE Profession ISNULL"
   ]
  },
  {
   "cell_type": "code",
   "execution_count": null,
   "id": "a32200bd",
   "metadata": {},
   "outputs": [],
   "source": [
    "%%sql\n",
    "SELECT\n",
    "    name\n",
    "FROM\n",
    "    sqlite_master\n",
    "WHERE\n",
    "    type='table'"
   ]
  },
  {
   "cell_type": "code",
   "execution_count": null,
   "id": "9942f442",
   "metadata": {},
   "outputs": [],
   "source": [
    "%sql SELECT * FROM sqlite_sequence"
   ]
  },
  {
   "cell_type": "code",
   "execution_count": null,
   "id": "c41c8cb0",
   "metadata": {},
   "outputs": [],
   "source": [
    "%%sql\n",
    "\n",
    "UPDATE sqlite_sequence SET seq=125 WHERE name='playlists'"
   ]
  },
  {
   "cell_type": "code",
   "execution_count": null,
   "id": "cb0e42b7",
   "metadata": {},
   "outputs": [],
   "source": [
    "%%sql\n",
    "SELECT * FROM sqlite_sequence"
   ]
  },
  {
   "cell_type": "code",
   "execution_count": null,
   "id": "61555e72",
   "metadata": {},
   "outputs": [],
   "source": [
    "import pandas as pd\n",
    "result = %sql select * from movies\n",
    "dataframe = result.DataFrame()\n",
    "dataframe"
   ]
  },
  {
   "cell_type": "code",
   "execution_count": null,
   "id": "9a2793d4",
   "metadata": {},
   "outputs": [],
   "source": []
  }
 ],
 "metadata": {
  "kernelspec": {
   "display_name": "Python 3 (ipykernel)",
   "language": "python",
   "name": "python3"
  },
  "language_info": {
   "codemirror_mode": {
    "name": "ipython",
    "version": 3
   },
   "file_extension": ".py",
   "mimetype": "text/x-python",
   "name": "python",
   "nbconvert_exporter": "python",
   "pygments_lexer": "ipython3",
   "version": "3.9.13"
  }
 },
 "nbformat": 4,
 "nbformat_minor": 5
}
